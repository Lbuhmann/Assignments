{
 "cells": [
  {
   "cell_type": "markdown",
   "metadata": {},
   "source": [
    "# Applied economic analysis - Python project"
   ]
  },
  {
   "cell_type": "markdown",
   "metadata": {},
   "source": [
    "Name: Lukas Buhmann\n",
    "\n",
    "ANR: 111321\n",
    "\n",
    "SNR: 2008214"
   ]
  },
  {
   "cell_type": "markdown",
   "metadata": {},
   "source": [
    "This project work is a numerical simulation of a dynamic general equilibrium model in line with the model setup presented by Antunes, Cavalcanti and Villami in their paper \"Computing general equilibrium models with occupational choice and ﬁnancial frictions \" from 2008 (In the following: Antunes et al 2008a). My analysis is based on the calibration of the paper \"The effect of financial repression and enforcement on entrepreneurship and economic development\" from 2008 (In the following: Antunes et al 2008b) , written by the same authors mentioned above. "
   ]
  },
  {
   "cell_type": "markdown",
   "metadata": {},
   "source": [
    "## The model"
   ]
  },
  {
   "cell_type": "markdown",
   "metadata": {},
   "source": [
    "The model consists of a utility maximization problem, an enterpreneural profit optimization problem, an occupational choice problem and a market clearing problem: Consider a number $n$ of economic agents with the same utility function that are heterogeuous in the amount of bequest they get from  the previous generation and their enterpreneural talent. In each period in time, given an amount of bequest $b_t$ and a talent variable $x_t$ drawn from a probability distribution for every agent as well as an ex-ante known wage and interest rate level $w_t$ and $r_t$ respectively, agents decide whether to become workers or enterpreneurs. If they decide to become a worker, they get the wage rate $w_t$ as income (we assume perfect competition in the labor and capital market). Else, their income is the result of the enterpreneural optimization problem. This enterpreneural problem is particularly interesting as it includes a capital restriction: If the level of optimal capital employment exceeds the bequest of agent $i$, he can borrow additional funds on the capital market. However, there are capital market imperfections that the model explicitly accounts for. Next, given the capital supply (the sum over all bequests minus the amount of capital used in production) and labor supply (agents that choose to become workers) in period $t$, next period's wage and interest rate are determined by means of a market clearing condition.\n",
    "\n",
    "This procedure is repeated over multiple periods, resulting (the proofs can be found in the papers listed above) in a steady state wage rate, interest rate and bequest distribution. As other papers using the same model setup do not present further information about the steady state bequest distribution, I am particularly interested in the shape of the steady state distribution and the overall sum of steady state bequests resulting from different calibrations. \n"
   ]
  },
  {
   "cell_type": "markdown",
   "metadata": {},
   "source": [
    "## Financial frictions"
   ]
  },
  {
   "cell_type": "markdown",
   "metadata": {},
   "source": [
    "The financial friction parameters are $\\tau$ and $\\phi$, whereas $\\tau$ is a markup on per-unit capital costs if funds must be borrowed. $\\phi$ is the so-called enforcement parameter that proxys the legal enforcability of borrowers' claims. If this enforcability is very low, $\\phi$ is close to zero. If it is high, $\\phi$ is close to one. The second financial friction enters the optimization problem by a linear constraint that ensures that the total costs of borrowing must be smaller then a fraction $\\phi$ of potential enterpreneural returns.\n"
   ]
  },
  {
   "cell_type": "markdown",
   "metadata": {},
   "source": [
    "## The research question"
   ]
  },
  {
   "cell_type": "markdown",
   "metadata": {},
   "source": [
    "In this project work, I will investigate for possible differences in the steady state bequest distributions across different values for the financial friction parameters. I define a baseline regime analogous to Antunes et al. (2008), a bad state regime and a good state regime. Additionally, I will provide time paths of wage and interest rate and the share of enterpreneurs across the whole population. My research question is: How does the bequest distribution, the sum over all bequests and the share of enterpreneurs change over the three different financial friction regimes?"
   ]
  },
  {
   "cell_type": "markdown",
   "metadata": {},
   "source": [
    "## Main assumptions "
   ]
  },
  {
   "cell_type": "markdown",
   "metadata": {},
   "source": [
    "\n",
    "1) Utility function satisfies INADA conditions\n",
    "\n",
    "2) Profit function calibrated such that there is scope for 10 % enterpreneural profit.\n",
    "\n",
    "3) Perfect competition on capital and labor markets. Wage and interest rate are equal to the marginal product of labor and capital respectively.\n"
   ]
  },
  {
   "cell_type": "markdown",
   "metadata": {},
   "source": [
    "## A sneak peak into the results"
   ]
  },
  {
   "cell_type": "markdown",
   "metadata": {},
   "source": [
    "The main results are:\n",
    "    \n",
    "1) The heavier the financial frictions, the lower the overall sum of bequests.\n",
    "\n",
    "2) There are more enterpreneurs when financial frictions are more relaxed.\n",
    "\n",
    "3) The interest rate is higher when there are less financial frictions. The wage is hardly affected."
   ]
  },
  {
   "cell_type": "markdown",
   "metadata": {},
   "source": [
    "## Final notes"
   ]
  },
  {
   "cell_type": "markdown",
   "metadata": {},
   "source": [
    "As Antunes et al. (2008b) hardly provide simulation results for their model calibration and as I use a different method to solve the model (I rely on round-for-round solutions of all maximization and root finding problems, looping over an ex-ante defined number of time periods until the steady state is reached), I cannot compare my calculations with benchmark simulation results. Additionally, as I solve the presented model in a purely numerical manner, there might be rounding errors in the results.\n",
    "\n",
    "A further issue I must address is non-convergence in the results. Given the random talent distribution realizations per period, results sometimes convergence, however sometimes they do not. I will provide results for the case the algorihm converges. If the algorithm does not converge, I invite you, dear supervisor of this script, to re-execute the commands.\n",
    "\n",
    "The following script explains both the theoretical background and the algorithm steps to solve the model."
   ]
  },
  {
   "cell_type": "markdown",
   "metadata": {},
   "source": [
    "## Packages to import"
   ]
  },
  {
   "cell_type": "code",
   "execution_count": 98,
   "metadata": {
    "collapsed": true
   },
   "outputs": [],
   "source": [
    "import scipy as sc\n",
    "from scipy import optimize\n",
    "import numpy as np\n",
    "import matplotlib.pyplot as plt\n",
    "from __future__ import division"
   ]
  },
  {
   "cell_type": "markdown",
   "metadata": {},
   "source": [
    "## Utility maximization problem"
   ]
  },
  {
   "cell_type": "markdown",
   "metadata": {},
   "source": [
    "An economic agent lives for one period $t$. During his lifetime, he decides how much to consume and how much of his income to pass to the next generation. An economic agent and all his offsprings are defined as agent $i$. The utility optimization problem for agent i for every period $t$ is $$ max_{b_{t+1}^i, c_{t}^i } u(b,c) = (b_{t+1}^i)^{\\gamma} (c_{t}^i)^{1 - \\gamma}$$ subject to the budget constraint  $$ b_{t+1}^i + c_{t}^i \\leq y_{t}^i $$ \n",
    "This yields the optimal solutions: $$(b_{t+1}^i)^* =(1 - \\gamma) y_t $$ and $$(c_{t}^i)^* = \\gamma y_t $$,\n",
    "\n",
    "where $ b_{t+1} $ is the bequest for i's offspring, $c_t$ is the agent's consumption in period $t$ and $y_t$ is the income of the agent in $t$. The code below defines the optimial solution for the bequest, as I later need this function in my program. The parameter $a$ replaces the theoretical parameter $1- \\gamma$"
   ]
  },
  {
   "cell_type": "code",
   "execution_count": 99,
   "metadata": {
    "collapsed": true
   },
   "outputs": [],
   "source": [
    "def optimal_bequest(inc):\n",
    "    y = a * inc\n",
    "    return y "
   ]
  },
  {
   "cell_type": "markdown",
   "metadata": {},
   "source": [
    "## Enterpreneural optimization problem"
   ]
  },
  {
   "cell_type": "markdown",
   "metadata": {},
   "source": [
    "If an agent decides to become an enterpreneur, his income is determined by the enterpreneural profit. An enterpreneur's optimization problem has two arguments to maximize for. This problem in terms of labor supply is:\n",
    "\n",
    "$$ max_n \\Pi_{t}^i (k_{t}^i, x_{t}^i, w_t) = x_{t}^i (k_{t}^i)^\\alpha (n_{t}^i)^\\beta - wn_{t}^i $$\n",
    "This yields the optimal labor input: $$ (n_{t}^i)^* = \\left(\\frac{\\beta x_{t}^i (k_{t}^i)^\\alpha}{w_t} \\right)^{\\frac{1}{1 - \\beta}}  $$\n",
    "\n",
    "Plugging this result into the profit function yields:\n",
    "\n",
    "$$ \\Pi_{t}^i (k_{t}^i, x_{t}^i, w_t) = (1- \\beta) (x_{t}^i (k_{t}^i)^\\alpha )^{\\frac{1}{1 - \\beta}} \\left(\\frac{\\beta}{w_t} \\right)^{\\frac{\\beta}{1 - \\beta}}  $$\n",
    "\n",
    "The code below defines the function above in Python."
   ]
  },
  {
   "cell_type": "code",
   "execution_count": 100,
   "metadata": {
    "collapsed": true
   },
   "outputs": [],
   "source": [
    "def Profit(talent, capital, wage):\n",
    "    p = (1- beta)*(talent * capital**alpha)**(1/(1-beta)) * (beta/wage)**(beta/(1-beta)) \n",
    "    return p"
   ]
  },
  {
   "cell_type": "markdown",
   "metadata": {},
   "source": [
    "An enterpreuner can use his bequest to self-finance his firm. Define $a_{t}^i$ as the amount of agent i in period t invested by self-finance, i.e. by the bequest and $l_{t}^i$ as the amount of external finance. We define $ k_{t}^i = a_{t}^i + l_{t}^i $.\n",
    "If an enterpreneur is unconstrained, i.e. he does not externally borrow as $(a_{t}^i)^* \\leq b_{t}^i $, his optimization problem is:\n",
    "$$ max_{a_{t}^i} \\Pi_{t}^i (k_{t}^i, x_{t}^i, w_t) = (1- \\beta) (x_{t}^i (k_{t}^i)^\\alpha )^{\\frac{1}{1 - \\beta}} \\left(\\frac{\\beta}{w_t} \\right)^{\\frac{\\beta}{1 - \\beta}} -(1+r_t)a_{t}^i $$ \n",
    "\n",
    "In this case, the optimum level of capital and the level of capital agent $i$ invests in his firm is:\n",
    "\n",
    "$$ (a_{t}^i)^* =\\left(x_{t}^i \\left(\\frac{\\beta}{w_t} \\right)^\\beta \\left(\\frac{\\alpha}{1+r_t} \\right)^{1-\\beta} \\right)^{\\frac{1}{1-\\alpha-\\beta}} $$ \n",
    "\n",
    "However, if $(a_{t}^i)^* > b_{t}^i $, an agent cannot self-finance his firm and the enterpreneurs optimization problem becomes:\n",
    "\n",
    "$$ max_{a_{t}^i,l_{t}^i} \\Pi_{t}^i (k_{t}^i, x_{t}^i, w_t) = (1- \\beta) (x_{t}^i (k_{t}^i)^\\alpha )^{\\frac{1}{1 - \\beta}} \\left(\\frac{\\beta}{w_t} \\right)^{\\frac{\\beta}{1 - \\beta}} -(1+r_t)a_{t}^i - (1+r_t+ \\tau)l_{t}^i $$\n",
    "\n",
    "subject to the previously introduced enforcement constraint:\n",
    "\n",
    "$$ (1+r+\\tau)l_i \\leq \\phi \\Pi_i (a_i, l_i, x_i, w) $$\n",
    "\n",
    "The code below implements the unrestricted optimal level of self-financed capital and the optimum level of labor into Python:"
   ]
  },
  {
   "cell_type": "code",
   "execution_count": 101,
   "metadata": {
    "collapsed": true
   },
   "outputs": [],
   "source": [
    "def a_opt(talent, wage, interest_rate):\n",
    "    p = (talent*(beta/wage)**beta * (alpha/(1 + interest_rate))**(1-beta))**(1/(1-alpha-beta))\n",
    "    return p\n",
    "\n",
    "def n_opt(talent, wage, cap_opt):\n",
    "    p = ((beta*talent*cap_opt**alpha)/wage)**(1/(1-beta))\n",
    "    return p "
   ]
  },
  {
   "cell_type": "markdown",
   "metadata": {},
   "source": [
    "In the window below, I first program the unconstrained capital profit function. Second, I use the scipy. optimize package and the fminbound function to maximize the negative profit function with respect to capital. The function optimal_capital_unconstrained calculates the inner solution for the optimum level of capital. The function optimal_profit_unconstrained computes the profit when plugging in the optimal capital level in the profit function."
   ]
  },
  {
   "cell_type": "code",
   "execution_count": 102,
   "metadata": {
    "collapsed": true
   },
   "outputs": [],
   "source": [
    "def profit_unconstrained(talent, capital, wage, interest_rate):\n",
    "    p = (1- beta)*((talent *  capital**alpha)**(1/(1-beta))) * ((beta/wage)**(beta/(1-beta))) - (1+ interest_rate)*capital\n",
    "    return p\n",
    "\n",
    "def optimal_capital_unconstrained(talent,  wage, interest_rate):\n",
    "    q1 =  sc.optimize.fminbound(lambda capital: -profit_unconstrained(talent, capital, wage, interest_rate),0,1000)\n",
    "    return q1\n",
    "\n",
    "def optimal_profit_unconstrained(talent,  wage, interest_rate):\n",
    "    p = (1- beta)*(talent * optimal_capital_unconstrained(talent, wage, interest_rate)**alpha)**(1/(1-beta)) * (beta/wage)**(beta/(1-beta)) - (1+ interest_rate)*optimal_capital_unconstrained(talent, wage, interest_rate)\n",
    "    return p"
   ]
  },
  {
   "cell_type": "markdown",
   "metadata": {},
   "source": [
    "In the window below, I program the much more complicated constrained optimization problem. First, in the Profit_constrained function, I define the profit function of the constrained optimization problem. The function optimal_capital_constrained uses the minimize function of scipy to calculate optimal level of self-finance and the optimal level of borrowing. The function minimize needs a vector input, such that I implement $a$ and $l$ in the Profit_constrained function as a vector called \"cap\". Additionally, I program the previously introduced constraints as \"cons1\" and \"cons2\", bundling them in a dictionary called \"cons\". The output of the function is a vector consisting of the optimal level of self-finance and borrowing. The function \"optimal_profit_unconstrained\" computes the profit of the constrained profit function when plugging in the optimum capital vector in the profit function."
   ]
  },
  {
   "cell_type": "code",
   "execution_count": 103,
   "metadata": {
    "collapsed": true,
    "scrolled": true
   },
   "outputs": [],
   "source": [
    "def Profit_constrained(cap, talent, wage, interest_rate):\n",
    "    p = (1- beta) * (talent * (cap[0]+cap[1])**alpha)**(1/(1-beta)) * (beta/wage)**(beta/(1-beta)) - (1+interest_rate)*cap[0] - (1+interest_rate+tau)*cap[1]\n",
    "    return p\n",
    "\n",
    "\n",
    "def optimal_capital_constrained(bequest, talent, wage, interest_rate):\n",
    "    \n",
    "    def cons1(cap, bequest):\n",
    "            p = bequest - cap[0] -  0*cap[1]\n",
    "            return p \n",
    "\n",
    "    def cons2(cap, talent, wage, interest_rate):\n",
    "            p = phi*Profit_constrained(cap, talent, wage, interest_rate) - (1+interest_rate+tau)*cap[1]\n",
    "            return p\n",
    "    \n",
    "    cons = ({'type': 'ineq', 'fun': lambda cap: cons1(cap,bequest)}, \n",
    "            {'type': 'ineq', 'fun': lambda cap: np.array([cons2(cap, talent, wage, interest_rate)])})\n",
    " \n",
    "    bnds = ((0, 100), (0, 100))\n",
    " \n",
    "    res =  sc.optimize.minimize(lambda cap: -Profit_constrained(cap,talent,wage,interest_rate),\n",
    "                                x0 = [2,2],\n",
    "                                constraints=cons, \n",
    "                                method='SLSQP',bounds = bnds)\n",
    "    return res.x\n",
    "\n",
    "def optimal_profit_constrained(bequest,talent, wage, interest_rate): \n",
    "    return Profit_constrained(optimal_capital_constrained(bequest, talent, wage, interest_rate),talent,wage,interest_rate)\n",
    "\n"
   ]
  },
  {
   "cell_type": "markdown",
   "metadata": {},
   "source": [
    "## Occupational choice"
   ]
  },
  {
   "cell_type": "markdown",
   "metadata": {},
   "source": [
    "The next window contains the core body of my algorithm. It computes the occupational choice of an economic agent, i.e. it determines whether an economic agent becomes a worker or an enterpreneur. The basic idea is, given $x_{t}^i$, $b_{t}^i$ and the initial wage and interest rate $w_t$ and $r_t$, an agent simply compares his potential enterpreneural return and the wage rate.\n",
    "If $$\\Pi_{t}^i (b_{t}^i,  x_{t}^i, w_t, r_t) \\geq w_t$$,\n",
    "\n",
    "the agent chooses to become an enterpreneur. Else if  $$\\Pi_{t}^i (b_{t}^i,  x_{t}^i, w_t, r_t) < w_t$$, the agent chooses to become a worker. First, I compute the potential enterpreneural profit of every agent and safe it in a np.array called income. Second, for every agent I compare whether his/ her enterpreneural profit is smaller than the wage rate. If yes, the agent chooses to become a worker. If no, the agent \"stays\" an enterpreneur. Additionally, I compute dichotomous variables indicating whether an agent is an enterpreneur or not, and whether he is a capital constrained or a capital unconstrained enterpreneur. "
   ]
  },
  {
   "cell_type": "code",
   "execution_count": 104,
   "metadata": {
    "collapsed": true,
    "scrolled": false
   },
   "outputs": [],
   "source": [
    "def program_loop(bequests,talents,wage,interest_rate):\n",
    "    income = np.array([])\n",
    "    ent_unc_indicator = np.array([])\n",
    "    ent_con_indicator = np.array([])\n",
    "    wor_indicator = np.array([])\n",
    "    ent_indicator = np.ones(len(bequests))\n",
    "    for i in range(len(talents)):\n",
    "        if bequests[i] >= a_opt(talents[i] , wage, interest_rate):\n",
    "            income = np.append(income, optimal_profit_unconstrained(talents[i],wage,interest_rate))\n",
    "            ent_unc_indicator = np.append(ent_unc_indicator,1)\n",
    "            wor_indicator = np.append(wor_indicator,0)\n",
    "            ent_con_indicator = np.append(ent_con_indicator,0)\n",
    "            ent_indicator[i] = 1\n",
    "        else:\n",
    "            income = np.append(income, optimal_profit_constrained(bequests[i],talents[i],wage,interest_rate))\n",
    "            ent_unc_indicator = np.append(ent_unc_indicator,0)\n",
    "            wor_indicator = np.append(wor_indicator,0)\n",
    "            ent_con_indicator = np.append(ent_con_indicator,1)\n",
    "            ent_indicator[i] = 1\n",
    "    for i in range(len(talents)):\n",
    "        if income[i] < wage:\n",
    "            income[i] = wage\n",
    "            ent_con_indicator[i] = 0\n",
    "            ent_unc_indicator[i] = 0\n",
    "            wor_indicator[i] = 1\n",
    "            ent_indicator[i] = 0\n",
    "    return income, ent_unc_indicator, wor_indicator, ent_con_indicator, ent_indicator"
   ]
  },
  {
   "cell_type": "markdown",
   "metadata": {},
   "source": [
    "## Market clearing conditions"
   ]
  },
  {
   "cell_type": "markdown",
   "metadata": {},
   "source": [
    "The last part of the program determines the equilibria in the capital and labor market. Let $\\iota_{wor}$ and $\\iota_{ent}$ be dichotomous variables indicating whether an agent is a worker or an enterpreneur respectively. Additionally, let $k(x_{t}^i, n_{t}^i, w_t, r_t)$ and $n(x_{t}^i, n_{t}^i, w_t, r_t)$ be the optimum level of capital and optimum level of labor employed by agent i in production.\n",
    "The next periods's wage and interest rate tupel $(w_t,r_t)$ is determined by solving the non-linear equation system with respect to interest rate and wage:\n",
    "$$ \\sum_{i=1}^n  \\iota_{wor} - \\iota_{ent} \\times n(x_{t}^i, n_{t}^i, w_t, r_t) = 0 \\\\\n",
    "   \\sum_{i=1}^n  b_{t}^i - \\iota_{ent} \\times k(x_{t}^i, n_{t}^i, w_t, r_t) = 0$$\n",
    "   \n",
    "This I do by first translating both equations above into Python (by the functions \"labor_marketclearing\" and \"capital_marketclearing\"), building a vectorized function \"func\" out of both and then using the scipy function \"root\".\n",
    "\n",
    "\n",
    "All other functions are of technical nature. To avoid excessive fluctuations, Antunes et al (2008a, 2008b) smooth the time paths of interest rate and wage. Let us first define \n",
    "\n",
    "$$X_t = \\frac{ \\sum_{i=1}^n  \\iota_{wor} - \\iota_{ent}  n(x_{t}^i, n_{t}^i, w_t, r_t)}{\\sum_{i=1}^n  \\iota_{wor}}$$\n",
    "as the average excess labor supply in period $t$ and \n",
    "$$ Y_t = \\frac{ \\sum_{i=1}^n  b_{t}^i - \\iota_{ent} k(x_{t}^i, n_{t}^i, w_t, r_t)}{\\sum_{i=1}^n  b_{t}^i} $$\n",
    "as the excess capital supply as a fraction of total wealth.\n",
    " \n",
    "Assume the wage and interest rate transition function to be:\n",
    "\n",
    "\n",
    "$$\\begin{bmatrix} w_{t+1} \\\\ r_{t+1} \\end{bmatrix} = \\begin{bmatrix} w_{t} \\\\ r_{t} \\end{bmatrix} + \\sigma \\times  \\begin{bmatrix} a_1 \\\\ a_2 \\end{bmatrix} \\times \\begin{bmatrix} X_t \\\\ Y_t \\end{bmatrix}  $$.\n",
    "\n",
    "The last vector consists of the average labor excess and capital excess as a fraction of total wealth across agents in time $t$. $\\sigma$ is a smoothing parameter and  is in a range between zero and one. The parameter $a_1$ and $a_2$ must be chosen such that they reflect the dynamics of the non-smoothed time path of wage and interest rate. Thus, given $\\sigma = 1$, i calculate both parameters given the following rule:\n",
    "\n",
    "$$ \\begin{bmatrix} a_1 \\\\ a_2 \\end{bmatrix} = {\\large \\begin{bmatrix} \\frac{ w_{t+1}(\\sigma = 1) - w_{t}}{{X_t}} \\\\ \\frac{r_{t+1}(\\sigma = 1) - r_{t}}{Y_t} \\end{bmatrix}}$$,\n",
    "\n",
    "whereas $  w_{t+1}(\\sigma = 1) $ and $ r_{t+1}(\\sigma = 1)$ can be found by using the \"root\" function as explained above. Given that  $ 0 < \\sigma < 1$, this procedure leads to adequat smoothing out of erratic wage and interest rate dynamics. \n",
    "\n",
    "The function \"av_func\" creates $X_t$ and $Y_t$, the function \"clear_all\" calculates $  w_{t+1}(\\sigma = 1) $ and $ r_{t+1}(\\sigma = 1)$. Finally, the function \"converge\" calculates the parameter $ a_1$ and  $ a_2$.\n",
    "\n"
   ]
  },
  {
   "cell_type": "code",
   "execution_count": 105,
   "metadata": {
    "collapsed": true
   },
   "outputs": [],
   "source": [
    "def labor_marketclearing(bequests,talents, wage, interest_rate,ent_indicator_1, wor_indicator_1):\n",
    "    labor_clearing = []\n",
    "    for i in range(len(talents)):\n",
    "        if ent_indicator_1[i] == 1:\n",
    "                p = -n_opt(talents[i], wage, sum(optimal_capital_constrained(bequests[i],talents[i],wage, interest_rate)))\n",
    "                labor_clearing.append(p)\n",
    "        elif wor_indicator_1[i] ==1:\n",
    "                p = 1\n",
    "                labor_clearing.append(p)\n",
    "    return sum(labor_clearing)\n",
    "\n",
    "def cap_marketclearing(bequests, talents, wage, interest_rate,ent_indicator_1, wor_indicator_1):\n",
    "    capital_clearing = []\n",
    "    for i in range(len(talents)):\n",
    "        if ent_indicator_1[i] == 1:\n",
    "                p = bequests[i] - sum(optimal_capital_constrained(bequests[i],talents[i],wage, interest_rate))\n",
    "                capital_clearing.append(p)\n",
    "        elif wor_indicator_1[i] ==1:\n",
    "                p = bequests[i]\n",
    "                capital_clearing.append(p)\n",
    "    return sum(capital_clearing)\n",
    "\n",
    "\n",
    "def func(prices,bequests, talents, ent_indicator_1, wor_indicator_1):\n",
    "    \n",
    "    wage = prices[0]\n",
    "    interest_rate = prices[1]\n",
    "    \n",
    "    F = np.empty(2)\n",
    "    F[0] = labor_marketclearing(bequests, talents, wage, interest_rate, ent_indicator_1, wor_indicator_1)\n",
    "    F[1] = cap_marketclearing(bequests, talents, wage, interest_rate, ent_indicator_1, wor_indicator_1)\n",
    "    return F\n",
    "\n",
    "def clear_all(prices,bequests, talents, ent_indicator_1, wor_indicator_1): \n",
    "    \n",
    "    res = sc.optimize.root(func, args = (bequests,talents, ent_indicator_1, wor_indicator_1) , method = 'lm',tol=0.00002,x0 = (0.04,0.04))\n",
    "    return res.x\n",
    "\n",
    "def avfunc(prices,bequests, talents, ent_indicator_1, wor_indicator_1):\n",
    "    \n",
    "    wage = prices[0]\n",
    "    interest_rate = prices[1]\n",
    "    \n",
    "    F = np.empty(2)\n",
    "    F[0] = labor_marketclearing(bequests, talents, wage, interest_rate, ent_indicator_1, wor_indicator_1)/sum(wor_indicator_1)\n",
    "    F[1] = cap_marketclearing(bequests, talents, wage, interest_rate, ent_indicator_1, wor_indicator_1)/sum(bequests)\n",
    "    return F\n",
    " \n",
    "\n",
    "def converge(prices,bequests,talents, new_prices,avlabor,avcapital,ent_indicator_1, wor_indicator_1):\n",
    "    \n",
    "    wage = prices[0]\n",
    "    interest_rate = prices[1]\n",
    "    w = new_prices[0]\n",
    "    r = new_prices[1]\n",
    "    \n",
    "    p = np.empty(2)\n",
    "    p[0] = (w - wage)/avlabor\n",
    "    p[1] = (r - interest_rate)/avcapital\n",
    "    \n",
    "    return p"
   ]
  },
  {
   "cell_type": "markdown",
   "metadata": {},
   "source": [
    "## Income and bequest"
   ]
  },
  {
   "cell_type": "markdown",
   "metadata": {},
   "source": [
    "Finally, we need to generate the income for agent $i$ and the resulting next period's bequest for every agent and his/ her offspring $i$ in period $t$. For this purpose, we use the income vector generated by \"program_loop\". Formally, the income $y_{t}^i$ of every agent is defined as: \n",
    "\n",
    "$$ y_{t}^i =  max \\{ \\Pi_{t}^i (b_{t}^i,  x_{t}^i, w_t, r_t),  w_t \\}  + (1+ r_t) b_{t}^i$$\n",
    "\n",
    "Agent $i$'s income is thus first determined by the occupational choice and second by the amount of bequest of agent $i$. If this agent is a worker, he can invest his bequest into other enterpreneural projects, getting a capital return of $(1+r_t) b_{i}^t$. If he/ she is an enterpreneur, he/ she gets the capital return of his/ her bequest invested in the own enterpreneural project, which is also equal to $(1+r_t) b_{i}^t$. This function is implemented by the function \"generate_income\".\n",
    "\n",
    "The bequest agents transfer to their offsprings is defined by the optimal bequest function determined by the utility maximization problem. I calculate this bequest, $b_{t+1}^i$ as:\n",
    "\n",
    "$$ b_{t+1}^i = (1-  \\gamma ) y_{t}^i $$\n",
    "\n",
    "This is done by the function \"generate_bequest\"."
   ]
  },
  {
   "cell_type": "code",
   "execution_count": 106,
   "metadata": {
    "collapsed": true
   },
   "outputs": [],
   "source": [
    "def generate_income(income,bequests,interest_rate):\n",
    "        new_income = np.array([])\n",
    "        for i in xrange(number_agents):\n",
    "            new_income = np.append(new_income, income[i] + (1+interest_rate)*bequests[i])       \n",
    "        return new_income   \n",
    "    \n",
    "def generate_bequest(income):\n",
    "        new_bequest = np.array([])\n",
    "        for i in xrange(number_agents):\n",
    "            new_bequest = np.append(new_bequest, optimal_bequest(income[i]))   \n",
    "        return new_bequest"
   ]
  },
  {
   "cell_type": "markdown",
   "metadata": {},
   "source": [
    "# Solving the model"
   ]
  },
  {
   "cell_type": "markdown",
   "metadata": {},
   "source": [
    "I now construct and solve the model by means of the functions I created above. The function \"simulation\" which can be found below establishes a dynamic loop over the different steps programmed in the previous steps. For a better understanding, I annotated the code. The loop ends if an ex-ante defined condition is found to be true. That is, two subsequent wage rates and two subsequent interest rates must not deviate from each other by more than 0.01. This I define to be the steady state of the model.\n",
    "\n",
    "The talents are drawn from a cumulative exponential distribution of the form $F(x) = x^{\\frac{1}{4.422}}$. As an initial bequest distribution, I choose a uniform distribution with $0.3$ units of initial capital endowment for each agent.\n",
    "\n",
    "The initial wage $w_0$ and initial interest rate $r_0$ are chosen to be 0.3.\n",
    "\n"
   ]
  },
  {
   "cell_type": "code",
   "execution_count": 113,
   "metadata": {
    "collapsed": true
   },
   "outputs": [],
   "source": [
    "def simulation(number_agents,w0,r0,b0=0.3, tol = 0.01, max_t_loops=29):\n",
    "    \n",
    "    #initialization of variables\n",
    "    \n",
    "    \n",
    "\n",
    "    w = np.zeros(max_t_loops+1)\n",
    "    r = np.zeros(max_t_loops+1)\n",
    "    wstar = np.zeros(max_t_loops)\n",
    "    rstar = np.zeros(max_t_loops)\n",
    "\n",
    "    income_1  = np.zeros(shape = (max_t_loops,number_agents))\n",
    "    ent_unc_indicator_1 = np.zeros(shape = (max_t_loops,number_agents))\n",
    "    wor_indicator_1 = np.zeros(shape = (max_t_loops,number_agents))\n",
    "    ent_con_indicator_1 = np.zeros(shape = (max_t_loops,number_agents))\n",
    "    ent_indicator_1 = np.zeros(shape = (max_t_loops,number_agents))\n",
    "    \n",
    "    ndincome =  np.zeros(shape = (max_t_loops,number_agents))\n",
    "    ndtalents = np.zeros(shape = (max_t_loops,number_agents))\n",
    "    ndbequests = np.zeros(shape = (max_t_loops+1,number_agents))\n",
    "    entind = np.zeros(max_t_loops) \n",
    "\n",
    "    \n",
    "    #Loop the program over time\n",
    "\n",
    "    t=1\n",
    "    while True: \n",
    "        print t\n",
    "        \n",
    "        #Determine talent dist. per period\n",
    "        ndtalents[t,:]=np.random.power(1/4.422,number_agents)\n",
    "        #determine initial bequest dist.\n",
    "        ndbequests[1,:].fill(b0)\n",
    "        #determine initial wage and ir\n",
    "        w[1] = w0\n",
    "        r[1] = r0\n",
    "\n",
    "        #occupational choice\n",
    "        [income_1[t,:], ent_unc_indicator_1[t,:], wor_indicator_1[t,:],\n",
    "        ent_con_indicator_1[t,:], ent_indicator_1[t,:]] = program_loop(ndbequests[t,:], ndtalents[t,:],w[t],r[t])\n",
    "        \n",
    "        #find root of the labor and capital market clearing function\n",
    "        wstar[t], rstar[t] = clear_all([w[t], r[t]],ndbequests[t,:], ndtalents[t,:], ent_indicator_1[t,:], wor_indicator_1[t,:])\n",
    "        \n",
    "        #smooth the time paths of wage and interest rate\n",
    "        excess = np.ndarray(shape = (1, 2))\n",
    "        excess = avfunc([w[t],r[t]], ndbequests[t,:],ndtalents[t,:], ent_indicator_1[t,:], wor_indicator_1[t,:])\n",
    "\n",
    "        conv = np.ndarray(shape = (1, 2))\n",
    "        conv = converge([w[t],r[t]],ndbequests[t,:], ndtalents[t,:], [wstar[t], rstar[t]],excess[0],excess[1], ent_indicator_1[t,:], wor_indicator_1[t,:])\n",
    "\n",
    "        w[t+1] = w[t] + sigma* conv[0]*excess[0]\n",
    "\n",
    "        r[t+1] = r[t] + sigma* conv[1]*excess[1]\n",
    "        \n",
    "        #generate agents' income\n",
    "        ndincome[t,:] = generate_income(income_1[t,:],ndbequests[t,:],r[t])\n",
    "        \n",
    "        #generate next period's bequest distribution\n",
    "        ndbequests[t+1,:] = generate_bequest(ndincome[t,:])\n",
    "        \n",
    "        #determine share of enterpreneurs\n",
    "        entind[t]=sum(ent_indicator_1[t,:])/number_agents\n",
    "        \n",
    "        #stop loop condition\n",
    "        if w[t]- tol < w[t+1] < w[t] +tol and r[t]- tol < r[t+1] < r[t] +tol:\n",
    "            print 'break'\n",
    "            print t\n",
    "            break\n",
    "            \n",
    "        if t == max_t_loops - 1:\n",
    "            break\n",
    "\n",
    "        t+=1\n",
    "\n",
    "    #determine final loop number\n",
    "    nn=np.sum(w>0)\n",
    "    nn=nn+1\n",
    "    \n",
    "    #adjust the variables to final loop number\n",
    "    w = w[:nn]\n",
    "    r = r[:nn]\n",
    "    \n",
    "\n",
    "    ndincome = ndincome[:nn,:]\n",
    "    ndtalents = ndtalents[:nn,:]\n",
    "    ndbequests = ndbequests[:nn,:]\n",
    "\n",
    "    return w, r,ndincome,ndbequests,entind,nn, wstar, rstar, income_1, ent_unc_indicator_1, wor_indicator_1, ent_con_indicator_1, ent_indicator_1"
   ]
  },
  {
   "cell_type": "markdown",
   "metadata": {},
   "source": [
    "## Baseline scenario - Calibration"
   ]
  },
  {
   "cell_type": "markdown",
   "metadata": {},
   "source": [
    "The next window shows the parameter calibration I use for the baseline scenario analogous to the calibration of Antunes et al. (2008b):\n",
    "\n",
    "$$ a = (1-  \\gamma ) = 0.06$$\n",
    "\n",
    "$$ b = \\gamma = 0.94 $$\n",
    "\n",
    "$$ beta = \\beta = 0.55 $$\n",
    "\n",
    "$$ alpha = \\alpha = 0.35 $$\n",
    "\n",
    "$$ phi = \\phi = 0.26 $$\n",
    "\n",
    "$$ tau = \\tau = 0.005 $$\n",
    "\n",
    "Additionally, I choose $\\sigma = 0.2 $. All parameter values except for $\\tau$ and $\\phi$ stay the same across all scenarios.\n",
    "\n"
   ]
  },
  {
   "cell_type": "code",
   "execution_count": 152,
   "metadata": {
    "collapsed": true
   },
   "outputs": [],
   "source": [
    "phi = 0.26\n",
    "tau = 0.005\n",
    "a = 0.06\n",
    "\n",
    "beta = 0.55\n",
    "alpha = 0.35\n",
    "\n",
    "sigma = 0.2"
   ]
  },
  {
   "cell_type": "code",
   "execution_count": 153,
   "metadata": {},
   "outputs": [
    {
     "name": "stdout",
     "output_type": "stream",
     "text": [
      "1\n",
      "2\n",
      "3\n",
      "4\n",
      "5\n",
      "6\n",
      "7\n",
      "8\n",
      "9\n",
      "10\n",
      "11\n",
      "12\n",
      "13\n",
      "14\n",
      "15\n",
      "16\n",
      "17\n",
      "break\n",
      "17\n"
     ]
    }
   ],
   "source": [
    "number_agents = 500\n",
    "w0=0.3\n",
    "r0=0.3\n",
    "w, r,ndincome,ndbequests,entind,nn, wstar, rstar, income_1, ent_unc_indicator_1, wor_indicator_1, ent_con_indicator_1, ent_indicator_1 = simulation(number_agents,w0,r0)"
   ]
  },
  {
   "cell_type": "code",
   "execution_count": 154,
   "metadata": {},
   "outputs": [
    {
     "data": {
      "image/png": "[encoded data removed]",
      "text/plain": [
       "<matplotlib.figure.Figure at 0xf469128>"
      ]
     },
     "metadata": {},
     "output_type": "display_data"
    },
    {
     "name": "stdout",
     "output_type": "stream",
     "text": [
      "the steady state interest rate is: 0.604048958045\n",
      "the steady wage is: 0.0720647169594\n",
      "the share of enterpreneurs is :  0.07\n"
     ]
    },
    {
     "data": {
      "image/png": "[encoded data removed]",
      "text/plain": [
       "<matplotlib.figure.Figure at 0xf3b94e0>"
      ]
     },
     "metadata": {},
     "output_type": "display_data"
    },
    {
     "data": {
      "image/png": "[encoded data removed]",
      "text/plain": [
       "<matplotlib.figure.Figure at 0xf7adef0>"
      ]
     },
     "metadata": {},
     "output_type": "display_data"
    },
    {
     "data": {
      "image/png": "[encoded data removed]",
      "text/plain": [
       "<matplotlib.figure.Figure at 0xf7adcc0>"
      ]
     },
     "metadata": {},
     "output_type": "display_data"
    },
    {
     "name": "stdout",
     "output_type": "stream",
     "text": [
      "the steady state sum over all bequests is:  3.24809362013\n"
     ]
    }
   ],
   "source": [
    "plt.plot(r)\n",
    "axes = plt.gca()\n",
    "axes.set_ylim([0,1])\n",
    "axes.set_xlim([1,nn-1])\n",
    "plt.show()\n",
    "\n",
    "print \"the steady state interest rate is:\", r[nn-1]\n",
    "print \"the steady wage is:\", w[nn-1]\n",
    "\n",
    "print 'the share of enterpreneurs is : ', entind[nn-2]\n",
    "\n",
    "plt.plot(w)\n",
    "axes = plt.gca()\n",
    "axes.set_ylim([0,1])\n",
    "axes.set_xlim([1,nn-1])\n",
    "plt.show()\n",
    "\n",
    "\n",
    "plt.hist(ndbequests[len(w)-1,:])\n",
    "axes.set_xlim([1,5])\n",
    "plt.show()\n",
    "\n",
    "sumbequests = []\n",
    "for i in xrange(len(ndbequests)):\n",
    "    \n",
    "    p = sum(ndbequests[i,:])\n",
    "    sumbequests.append(p)\n",
    " \n",
    "plt.plot(sumbequests)\n",
    "axes = plt.gca()\n",
    "axes.set_ylim([-1,100])\n",
    "plt.show()\n",
    "\n",
    "print 'the steady state sum over all bequests is: ', sumbequests[nn-1]"
   ]
  },
  {
   "cell_type": "markdown",
   "metadata": {
    "collapsed": true
   },
   "source": [
    "# Solving the model: Better financial system scenario"
   ]
  },
  {
   "cell_type": "markdown",
   "metadata": {},
   "source": [
    "In this calibration, the financial frictions are relaxed. The new financial frictions parameters are:\n",
    "$$ \\phi = 2 \\times \\phi_{baseline}$$\n",
    "\n",
    "$$\\tau = \\frac{1}{2} \\times \\tau_{baseline} $$"
   ]
  },
  {
   "cell_type": "code",
   "execution_count": 140,
   "metadata": {
    "collapsed": true
   },
   "outputs": [],
   "source": [
    "phi = 0.52\n",
    "tau = 0.0025"
   ]
  },
  {
   "cell_type": "code",
   "execution_count": 142,
   "metadata": {},
   "outputs": [
    {
     "name": "stdout",
     "output_type": "stream",
     "text": [
      "1\n",
      "2\n",
      "3\n",
      "4\n",
      "5\n",
      "6\n",
      "7\n",
      "8\n",
      "9\n",
      "10\n",
      "11\n",
      "12\n",
      "13\n",
      "14\n",
      "15\n",
      "16\n",
      "17\n",
      "break\n",
      "17\n"
     ]
    }
   ],
   "source": [
    "number_agents = 500\n",
    "w0=0.3\n",
    "r0=0.3\n",
    "w2, r2,ndincome2,ndbequests2,entind2, nn2, wstar2, rstar2, income_2, ent_unc_indicator_2, wor_indicator_2, ent_con_indicator_2, ent_indicator_2 = simulation(number_agents,w0,r0, tol =0.01, max_t_loops=40)"
   ]
  },
  {
   "cell_type": "code",
   "execution_count": null,
   "metadata": {
    "collapsed": true
   },
   "outputs": [],
   "source": []
  },
  {
   "cell_type": "code",
   "execution_count": 144,
   "metadata": {},
   "outputs": [
    {
     "data": {
      "image/png": "[encoded data removed]",
      "text/plain": [
       "<matplotlib.figure.Figure at 0xfe836d8>"
      ]
     },
     "metadata": {},
     "output_type": "display_data"
    },
    {
     "name": "stdout",
     "output_type": "stream",
     "text": [
      "the steady state interest rate is: 1.25167691675\n",
      "the steady wage is: 0.0710264720363\n",
      "the share of enterpreneurs is :  0.076\n"
     ]
    },
    {
     "data": {
      "image/png": "[encoded data removed]",
      "text/plain": [
       "<matplotlib.figure.Figure at 0xe24f470>"
      ]
     },
     "metadata": {},
     "output_type": "display_data"
    },
    {
     "data": {
      "image/png": "[encoded data removed]",
      "text/plain": [
       "<matplotlib.figure.Figure at 0x10a72048>"
      ]
     },
     "metadata": {},
     "output_type": "display_data"
    },
    {
     "data": {
      "image/png": "[encoded data removed]",
      "text/plain": [
       "<matplotlib.figure.Figure at 0x10a72c88>"
      ]
     },
     "metadata": {},
     "output_type": "display_data"
    },
    {
     "name": "stdout",
     "output_type": "stream",
     "text": [
      "the steady state sum over all bequests is:  3.93018820634\n"
     ]
    }
   ],
   "source": [
    "plt.plot(r2)\n",
    "axes = plt.gca()\n",
    "axes.set_ylim([0,1.5])\n",
    "axes.set_xlim([1,nn2-1])\n",
    "plt.show()\n",
    "\n",
    "print \"the steady state interest rate is:\", r2[nn2-1]\n",
    "print \"the steady wage is:\", w2[nn2-1]\n",
    "\n",
    "print 'the share of enterpreneurs is : ', entind2[nn2-2]\n",
    "\n",
    "plt.plot(w2)\n",
    "axes = plt.gca()\n",
    "axes.set_ylim([0,1])\n",
    "axes.set_xlim([1,nn2-1])\n",
    "plt.show()\n",
    "\n",
    "\n",
    "plt.hist(ndbequests2[len(w2)-1,:])\n",
    "axes.set_xlim([1,5])\n",
    "plt.show()\n",
    "\n",
    "sumbequests = []\n",
    "for i in xrange(len(ndbequests2)):\n",
    "    \n",
    "    p = sum(ndbequests2[i,:])\n",
    "    sumbequests.append(p)\n",
    " \n",
    "plt.plot(sumbequests)\n",
    "axes = plt.gca()\n",
    "axes.set_ylim([-1,100])\n",
    "plt.show()\n",
    "\n",
    "print 'the steady state sum over all bequests is: ', sumbequests[nn2-1]"
   ]
  },
  {
   "cell_type": "markdown",
   "metadata": {
    "collapsed": true
   },
   "source": [
    "# The bad scenario"
   ]
  },
  {
   "cell_type": "markdown",
   "metadata": {},
   "source": [
    "In this scenario, financial frictions are tightened. The new financial frictions parameters are:\n",
    "    \n",
    "In this calibration, the financial frictions are relaxed. The new financial frictions parameters are:\n",
    "$$ \\phi = \\frac{1}{2} \\times \\phi_{baseline}$$\n",
    "\n",
    "$$\\tau = 2 \\times \\tau_{baseline} $$"
   ]
  },
  {
   "cell_type": "code",
   "execution_count": 155,
   "metadata": {
    "collapsed": true
   },
   "outputs": [],
   "source": [
    "phi = 0.13\n",
    "tau = 0.01"
   ]
  },
  {
   "cell_type": "code",
   "execution_count": 156,
   "metadata": {},
   "outputs": [
    {
     "name": "stdout",
     "output_type": "stream",
     "text": [
      "1\n",
      "2\n",
      "3\n",
      "4\n",
      "5\n",
      "6\n",
      "7\n",
      "8\n",
      "9\n",
      "10\n",
      "11\n",
      "break\n",
      "11\n"
     ]
    }
   ],
   "source": [
    "number_agents = 500\n",
    "w0=0.3\n",
    "r0=0.3\n",
    "w3, r3,ndincome3,ndbequests3,entind3, nn3, wstar3, rstar3, income_3, ent_unc_indicator_3, wor_indicator_3, ent_con_indicator_3, ent_indicator_3 = simulation(number_agents,w0,r0, tol =0.01, max_t_loops=40)"
   ]
  },
  {
   "cell_type": "code",
   "execution_count": 158,
   "metadata": {
    "scrolled": true
   },
   "outputs": [
    {
     "data": {
      "image/png": "[encoded data removed]",
      "text/plain": [
       "<matplotlib.figure.Figure at 0xff8a5f8>"
      ]
     },
     "metadata": {},
     "output_type": "display_data"
    },
    {
     "name": "stdout",
     "output_type": "stream",
     "text": [
      "the steady state interest rate is: -0.0106890407186\n",
      "the steady wage is: 0.0746341099724\n",
      "the share of enterpreneurs is :  0.066\n"
     ]
    },
    {
     "data": {
      "image/png": "[encoded data removed]",
      "text/plain": [
       "<matplotlib.figure.Figure at 0xfc871d0>"
      ]
     },
     "metadata": {},
     "output_type": "display_data"
    },
    {
     "data": {
      "image/png": "[encoded data removed]",
      "text/plain": [
       "<matplotlib.figure.Figure at 0x102cda20>"
      ]
     },
     "metadata": {},
     "output_type": "display_data"
    },
    {
     "data": {
      "image/png": "[encoded data removed]",
      "text/plain": [
       "<matplotlib.figure.Figure at 0x10a575c0>"
      ]
     },
     "metadata": {},
     "output_type": "display_data"
    },
    {
     "name": "stdout",
     "output_type": "stream",
     "text": [
      "the steady state sum over all bequests is:  2.84252382155\n"
     ]
    }
   ],
   "source": [
    "plt.plot(r3)\n",
    "axes = plt.gca()\n",
    "axes.set_ylim([-0.1,1])\n",
    "axes.set_xlim([1,nn3-1])\n",
    "plt.show()\n",
    "\n",
    "print \"the steady state interest rate is:\", r3[nn3-1]\n",
    "print \"the steady wage is:\", w3[nn3-1]\n",
    "\n",
    "print 'the share of enterpreneurs is : ', entind3[nn3-2]\n",
    "\n",
    "plt.plot(w3)\n",
    "axes = plt.gca()\n",
    "axes.set_ylim([0,1])\n",
    "axes.set_xlim([1,nn3-1])\n",
    "plt.show()\n",
    "\n",
    "\n",
    "plt.hist(ndbequests3[len(w3)-1,:])\n",
    "axes.set_xlim([1,5])\n",
    "plt.show()\n",
    "\n",
    "sumbequests = []\n",
    "for i in xrange(len(ndbequests3)):\n",
    "    \n",
    "    p = sum(ndbequests3[i,:])\n",
    "    sumbequests.append(p)\n",
    " \n",
    "plt.plot(sumbequests)\n",
    "axes = plt.gca()\n",
    "axes.set_ylim([-1,100])\n",
    "plt.show()\n",
    "\n",
    "print 'the steady state sum over all bequests is: ', sumbequests[nn3-1]"
   ]
  },
  {
   "cell_type": "markdown",
   "metadata": {},
   "source": [
    "## Results"
   ]
  },
  {
   "cell_type": "code",
   "execution_count": null,
   "metadata": {
    "collapsed": true
   },
   "outputs": [],
   "source": []
  }
 ],
 "metadata": {
  "kernelspec": {
   "display_name": "Python 2",
   "language": "python",
   "name": "python2"
  },
  "language_info": {
   "codemirror_mode": {
    "name": "ipython",
    "version": 2
   },
   "file_extension": ".py",
   "mimetype": "text/x-python",
   "name": "python",
   "nbconvert_exporter": "python",
   "pygments_lexer": "ipython2",
   "version": "2.7.13"
  }
 },
 "nbformat": 4,
 "nbformat_minor": 2
}
